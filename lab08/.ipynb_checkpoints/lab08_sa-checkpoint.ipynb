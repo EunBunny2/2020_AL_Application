{
 "cells": [
  {
   "cell_type": "code",
   "execution_count": 57,
   "metadata": {
    "colab": {
     "base_uri": "https://localhost:8080/",
     "height": 1000
    },
    "colab_type": "code",
    "executionInfo": {
     "elapsed": 265526,
     "status": "ok",
     "timestamp": 1589535520871,
     "user": {
      "displayName": "조은빈",
      "photoUrl": "",
      "userId": "07252776108348943833"
     },
     "user_tz": -540
    },
    "id": "-cp_sabwa6Mn",
    "outputId": "b54bb9a8-0361-4147-d7c8-e0f34d5deaa4"
   },
   "outputs": [
    {
     "name": "stderr",
     "output_type": "stream",
     "text": [
      "\n",
      "\n",
      "\n",
      "make x_train data:   0%|          | 0/156060 [00:00<?, ?it/s]\u001b[A\u001b[A\u001b[A\n",
      "\n",
      "\n",
      "make x_train data:  16%|█▌        | 25330/156060 [00:00<00:00, 253291.18it/s]\u001b[A\u001b[A\u001b[A\n",
      "\n",
      "\n",
      "make x_train data:  29%|██▉       | 45219/156060 [00:00<00:00, 234077.55it/s]\u001b[A\u001b[A\u001b[A\n",
      "\n",
      "\n",
      "make x_train data:  43%|████▎     | 67029/156060 [00:00<00:00, 229035.58it/s]\u001b[A\u001b[A\u001b[A\n",
      "\n",
      "\n",
      "make x_train data:  57%|█████▋    | 89575/156060 [00:00<00:00, 227950.13it/s]\u001b[A\u001b[A\u001b[A\n",
      "\n",
      "\n",
      "make x_train data:  71%|███████▏  | 111391/156060 [00:00<00:00, 224921.46it/s]\u001b[A\u001b[A\u001b[A\n",
      "\n",
      "\n",
      "make x_train data: 100%|██████████| 156060/156060 [00:00<00:00, 224153.00it/s]\n",
      "\n",
      "\n",
      "\n",
      "make x_test data:   0%|          | 0/66292 [00:00<?, ?it/s]\u001b[A\u001b[A\u001b[A\n",
      "\n",
      "\n",
      "make x_test data:  36%|███▌      | 23824/66292 [00:00<00:00, 238237.96it/s]\u001b[A\u001b[A\u001b[A\n",
      "\n",
      "\n",
      "make x_test data:  66%|██████▋   | 43945/66292 [00:00<00:00, 225773.36it/s]\u001b[A\u001b[A\u001b[A\n",
      "\n",
      "\n",
      "make x_test data: 100%|██████████| 66292/66292 [00:00<00:00, 205015.96it/s]\n",
      "\n",
      "\n",
      "\n",
      "  0%|          | 0/20 [00:00<?, ?it/s]\u001b[A\u001b[A\u001b[A\n",
      "\n",
      "\n",
      "  5%|▌         | 1/20 [00:13<04:09, 13.15s/it]\u001b[A\u001b[A\u001b[A"
     ]
    },
    {
     "name": "stdout",
     "output_type": "stream",
     "text": [
      "\n",
      "Epoch [1] Loss: 1.244\tAcc:0.514\n"
     ]
    },
    {
     "name": "stderr",
     "output_type": "stream",
     "text": [
      "\n",
      "\n",
      "\n",
      " 10%|█         | 2/20 [00:25<03:53, 13.00s/it]\u001b[A\u001b[A\u001b[A"
     ]
    },
    {
     "name": "stdout",
     "output_type": "stream",
     "text": [
      "\n",
      "Epoch [2] Loss: 1.124\tAcc:0.550\n"
     ]
    },
    {
     "name": "stderr",
     "output_type": "stream",
     "text": [
      "\n",
      "\n",
      "\n",
      " 15%|█▌        | 3/20 [00:38<03:39, 12.92s/it]\u001b[A\u001b[A\u001b[A"
     ]
    },
    {
     "name": "stdout",
     "output_type": "stream",
     "text": [
      "\n",
      "Epoch [3] Loss: 1.012\tAcc:0.592\n"
     ]
    },
    {
     "name": "stderr",
     "output_type": "stream",
     "text": [
      "\n",
      "\n",
      "\n",
      " 20%|██        | 4/20 [00:51<03:25, 12.83s/it]\u001b[A\u001b[A\u001b[A"
     ]
    },
    {
     "name": "stdout",
     "output_type": "stream",
     "text": [
      "\n",
      "Epoch [4] Loss: 0.931\tAcc:0.624\n"
     ]
    },
    {
     "name": "stderr",
     "output_type": "stream",
     "text": [
      "\n",
      "\n",
      "\n",
      " 25%|██▌       | 5/20 [01:04<03:12, 12.86s/it]\u001b[A\u001b[A\u001b[A"
     ]
    },
    {
     "name": "stdout",
     "output_type": "stream",
     "text": [
      "\n",
      "Epoch [5] Loss: 0.870\tAcc:0.648\n"
     ]
    },
    {
     "name": "stderr",
     "output_type": "stream",
     "text": [
      "\n",
      "\n",
      "\n",
      " 30%|███       | 6/20 [01:16<03:00, 12.86s/it]\u001b[A\u001b[A\u001b[A"
     ]
    },
    {
     "name": "stdout",
     "output_type": "stream",
     "text": [
      "\n",
      "Epoch [6] Loss: 0.825\tAcc:0.666\n"
     ]
    },
    {
     "name": "stderr",
     "output_type": "stream",
     "text": [
      "\n",
      "\n",
      "\n",
      " 35%|███▌      | 7/20 [01:29<02:47, 12.90s/it]\u001b[A\u001b[A\u001b[A"
     ]
    },
    {
     "name": "stdout",
     "output_type": "stream",
     "text": [
      "\n",
      "Epoch [7] Loss: 0.789\tAcc:0.680\n"
     ]
    },
    {
     "name": "stderr",
     "output_type": "stream",
     "text": [
      "\n",
      "\n",
      "\n",
      " 40%|████      | 8/20 [01:43<02:35, 12.95s/it]\u001b[A\u001b[A\u001b[A"
     ]
    },
    {
     "name": "stdout",
     "output_type": "stream",
     "text": [
      "\n",
      "Epoch [8] Loss: 0.758\tAcc:0.691\n"
     ]
    },
    {
     "name": "stderr",
     "output_type": "stream",
     "text": [
      "\n",
      "\n",
      "\n",
      " 45%|████▌     | 9/20 [01:55<02:22, 12.92s/it]\u001b[A\u001b[A\u001b[A"
     ]
    },
    {
     "name": "stdout",
     "output_type": "stream",
     "text": [
      "\n",
      "Epoch [9] Loss: 0.733\tAcc:0.701\n"
     ]
    },
    {
     "name": "stderr",
     "output_type": "stream",
     "text": [
      "\n",
      "\n",
      "\n",
      " 50%|█████     | 10/20 [02:08<02:09, 12.91s/it]\u001b[A\u001b[A\u001b[A"
     ]
    },
    {
     "name": "stdout",
     "output_type": "stream",
     "text": [
      "\n",
      "Epoch [10] Loss: 0.710\tAcc:0.710\n"
     ]
    },
    {
     "name": "stderr",
     "output_type": "stream",
     "text": [
      "\n",
      "\n",
      "\n",
      " 55%|█████▌    | 11/20 [02:21<01:55, 12.84s/it]\u001b[A\u001b[A\u001b[A"
     ]
    },
    {
     "name": "stdout",
     "output_type": "stream",
     "text": [
      "\n",
      "Epoch [11] Loss: 0.692\tAcc:0.718\n"
     ]
    },
    {
     "name": "stderr",
     "output_type": "stream",
     "text": [
      "\n",
      "\n",
      "\n",
      " 60%|██████    | 12/20 [02:34<01:42, 12.78s/it]\u001b[A\u001b[A\u001b[A"
     ]
    },
    {
     "name": "stdout",
     "output_type": "stream",
     "text": [
      "\n",
      "Epoch [12] Loss: 0.672\tAcc:0.725\n"
     ]
    },
    {
     "name": "stderr",
     "output_type": "stream",
     "text": [
      "\n",
      "\n",
      "\n",
      " 65%|██████▌   | 13/20 [02:46<01:29, 12.77s/it]\u001b[A\u001b[A\u001b[A"
     ]
    },
    {
     "name": "stdout",
     "output_type": "stream",
     "text": [
      "\n",
      "Epoch [13] Loss: 0.657\tAcc:0.731\n"
     ]
    },
    {
     "name": "stderr",
     "output_type": "stream",
     "text": [
      "\n",
      "\n",
      "\n",
      " 70%|███████   | 14/20 [02:59<01:16, 12.76s/it]\u001b[A\u001b[A\u001b[A"
     ]
    },
    {
     "name": "stdout",
     "output_type": "stream",
     "text": [
      "\n",
      "Epoch [14] Loss: 0.641\tAcc:0.737\n"
     ]
    },
    {
     "name": "stderr",
     "output_type": "stream",
     "text": [
      "\n",
      "\n",
      "\n",
      " 75%|███████▌  | 15/20 [03:12<01:04, 12.83s/it]\u001b[A\u001b[A\u001b[A"
     ]
    },
    {
     "name": "stdout",
     "output_type": "stream",
     "text": [
      "\n",
      "Epoch [15] Loss: 0.626\tAcc:0.744\n"
     ]
    },
    {
     "name": "stderr",
     "output_type": "stream",
     "text": [
      "\n",
      "\n",
      "\n",
      " 80%|████████  | 16/20 [03:25<00:51, 12.89s/it]\u001b[A\u001b[A\u001b[A"
     ]
    },
    {
     "name": "stdout",
     "output_type": "stream",
     "text": [
      "\n",
      "Epoch [16] Loss: 0.613\tAcc:0.748\n"
     ]
    },
    {
     "name": "stderr",
     "output_type": "stream",
     "text": [
      "\n",
      "\n",
      "\n",
      " 85%|████████▌ | 17/20 [03:38<00:39, 13.04s/it]\u001b[A\u001b[A\u001b[A"
     ]
    },
    {
     "name": "stdout",
     "output_type": "stream",
     "text": [
      "\n",
      "Epoch [17] Loss: 0.600\tAcc:0.754\n"
     ]
    },
    {
     "name": "stderr",
     "output_type": "stream",
     "text": [
      "\n",
      "\n",
      "\n",
      " 90%|█████████ | 18/20 [03:52<00:26, 13.10s/it]\u001b[A\u001b[A\u001b[A"
     ]
    },
    {
     "name": "stdout",
     "output_type": "stream",
     "text": [
      "\n",
      "Epoch [18] Loss: 0.587\tAcc:0.758\n"
     ]
    },
    {
     "name": "stderr",
     "output_type": "stream",
     "text": [
      "\n",
      "\n",
      "\n",
      " 95%|█████████▌| 19/20 [04:05<00:13, 13.04s/it]\u001b[A\u001b[A\u001b[A"
     ]
    },
    {
     "name": "stdout",
     "output_type": "stream",
     "text": [
      "\n",
      "Epoch [19] Loss: 0.576\tAcc:0.763\n"
     ]
    },
    {
     "name": "stderr",
     "output_type": "stream",
     "text": [
      "\n",
      "\n",
      "\n",
      "100%|██████████| 20/20 [04:18<00:00, 12.91s/it]"
     ]
    },
    {
     "name": "stdout",
     "output_type": "stream",
     "text": [
      "\n",
      "Epoch [20] Loss: 0.564\tAcc:0.768\n"
     ]
    },
    {
     "name": "stderr",
     "output_type": "stream",
     "text": [
      "\n",
      "/usr/local/lib/python3.6/dist-packages/torch/serialization.py:402: UserWarning: Couldn't retrieve source code for container of type RNN. It won't be checked for correctness upon loading.\n",
      "  \"type \" + obj.__name__ + \". It won't be checked \"\n"
     ]
    },
    {
     "data": {
      "image/png": "[encoded data removed]",
      "text/plain": [
       "<Figure size 432x288 with 1 Axes>"
      ]
     },
     "metadata": {
      "needs_background": "light",
      "tags": []
     },
     "output_type": "display_data"
    },
    {
     "data": {
      "image/png": "[encoded data removed]",
      "text/plain": [
       "<Figure size 432x288 with 1 Axes>"
      ]
     },
     "metadata": {
      "needs_background": "light",
      "tags": []
     },
     "output_type": "display_data"
    }
   ],
   "source": [
    "import os\n",
    "from collections import defaultdict\n",
    "import numpy as np\n",
    "import pandas as pd\n",
    "import torch.nn as nn\n",
    "import torch\n",
    "from torch import optim\n",
    "import matplotlib.pyplot as plt\n",
    "from tqdm import tqdm, trange\n",
    "\n",
    "def make_vocab(vocab_path, train=None):\n",
    "    vocab = {}\n",
    "    if os.path.isfile(vocab_path):\n",
    "        file = open(vocab_path, 'r', encoding='utf-8')\n",
    "        for line in file.readlines():\n",
    "            line = line.rstrip()\n",
    "            key, value = line.split('\\t')\n",
    "            vocab[key] = value\n",
    "        file.close()\n",
    "    else:\n",
    "        count_dict = defaultdict(int)\n",
    "        for index, data in tqdm(train.iterrows(), desc='make vocab', total=len(train)):\n",
    "            sentence = data['Phrase'].lower()\n",
    "            tokens = sentence.split(' ')\n",
    "            for token in tokens:\n",
    "                count_dict[token] += 1\n",
    "\n",
    "        file = open(vocab_path, 'w', encoding='utf-8')\n",
    "        file.write('[UNK]\\t0\\n[PAD]\\t1\\n')\n",
    "        vocab = {'[UNK]' : 0, '[PAD]' : 1}\n",
    "        for index, (token, count) in enumerate(sorted(count_dict.items(), reverse=True,key=lambda item: item[1])):\n",
    "            vocab[token] = index + 2\n",
    "            file.write(token + '\\t' + str(index + 2) + '\\n')\n",
    "        file.close()\n",
    "\n",
    "    return vocab\n",
    "\n",
    "def read_data(train, test, vocab, max_len):\n",
    "    x_train = np.ones(shape=(len(train), max_len))\n",
    "    for i, data in tqdm(enumerate(train['Phrase']), desc='make x_train data', total=len(train)):\n",
    "        data = data.lower() # 소문자로 바꾼다\n",
    "        tokens = data.split(' ')    # 공백을 기준으로 토큰을 자른다\n",
    "        for j, token in enumerate(tokens):\n",
    "            if j == max_len:\n",
    "                break\n",
    "            x_train[i][j] = vocab[token]\n",
    "\n",
    "    x_test = np.ones(shape=(len(test), max_len))\n",
    "    for i, data in tqdm(enumerate(test['Phrase']), desc='make x_test data', total=len(test)):\n",
    "        data = data.lower()\n",
    "        tokens = data.split(' ')\n",
    "        for j, token in enumerate(tokens):\n",
    "            if j == max_len:\n",
    "                break\n",
    "            if token not in vocab.keys():   # test 데이터에는 unknown 토큰이 존재\n",
    "                x_test[i][j] = 0\n",
    "            else:\n",
    "                x_test[i][j] = vocab[token]\n",
    "\n",
    "    y_train = train['Sentiment'].to_numpy()\n",
    "\n",
    "    return x_train, y_train, x_test\n",
    "\n",
    "class RNN(nn.Module):\n",
    "    def __init__(self, input_size, embed_size, hidden_size, output_size, num_layers=1, bidirec=True, device='cuda'):\n",
    "        super(RNN, self).__init__()\n",
    "\n",
    "        self.hidden_size = hidden_size\n",
    "        self.num_layers = num_layers\n",
    "        if bidirec:\n",
    "            self.num_directions = 2\n",
    "        else:\n",
    "            self.num_directions = 1\n",
    "        self.device = device\n",
    "\n",
    "        self.embed = nn.Embedding(input_size, embed_size, padding_idx=1)\n",
    "        self.lstm = nn.LSTM(embed_size, hidden_size, num_layers, batch_first=True, bidirectional=bidirec)\n",
    "        self.linear = nn.Linear(hidden_size * self.num_directions, output_size)\n",
    "\n",
    "    def init_hidden(self, batch_size):\n",
    "        hidden = torch.zeros(self.num_layers * self.num_directions, batch_size, self.hidden_size).to(self.device)\n",
    "        cell = torch.zeros(self.num_layers * self.num_directions, batch_size, self.hidden_size).to(self.device)\n",
    "        return hidden, cell\n",
    "    \n",
    "    def forward(self, inputs):\n",
    "        embed = self.embed(inputs)\n",
    "        hidden, cell = self.init_hidden(inputs.size(0))\n",
    "        output, (hidden, cell) = self.lstm(embed, (hidden, cell))\n",
    "\n",
    "        hidden = hidden[-self.num_directions:]\n",
    "        hidden = torch.cat([h for h in hidden], 1)\n",
    "        output = self.linear(hidden)\n",
    "\n",
    "        return output\n",
    "\n",
    "def get_acc(pred, answer):\n",
    "    correct = 0\n",
    "    for p, a in zip(pred, answer):\n",
    "        pv, pi = p.max(0)\n",
    "        if pi == a: # a는 One-Hot Encoding 값이 아니라서 바로 비교 가능\n",
    "            correct += 1\n",
    "    return correct / len(pred)\n",
    "\n",
    "def train(x, y, max_len, embed_size, hidden_size, output_size, batch_size, epochs, lr, device, model = None):\n",
    "    x = torch.from_numpy(x).long()\n",
    "    y = torch.from_numpy(y).long()\n",
    "    if model is None:\n",
    "        model = RNN(max_len, embed_size, hidden_size, output_size, device=device)\n",
    "    model.to(device)\n",
    "    model.train()\n",
    "    loss_function = nn.CrossEntropyLoss()\n",
    "    #loss_function = nn.MSELoss(reduction=\"mean\")\n",
    "    optimizer = optim.Adam(model.parameters(), lr=lr)\n",
    "    data_loader = torch.utils.data.DataLoader(list(zip(x, y)), batch_size, shuffle=True)\n",
    "    loss_total = []\n",
    "    acc_total = []\n",
    "    for epoch in trange(epochs):\n",
    "        epoch_loss = 0\n",
    "        epoch_acc = 0\n",
    "        for batch_data in data_loader:\n",
    "            x_batch, y_batch = batch_data\n",
    "            x_batch = x_batch.to(device)    # to(device)는 GPU를 쓰겠다는 의미\n",
    "            y_batch = y_batch.to(device)\n",
    "\n",
    "            pred = model(x_batch)\n",
    "\n",
    "            loss = loss_function(pred, y_batch)\n",
    "            optimizer.zero_grad()\n",
    "            loss.backward()\n",
    "\n",
    "            optimizer.step()\n",
    "\n",
    "            epoch_loss += loss.item()\n",
    "            epoch_acc += get_acc(pred, y_batch)\n",
    "        epoch_loss /= len(data_loader)\n",
    "        epoch_acc /= len(data_loader)\n",
    "        loss_total.append(epoch_loss)\n",
    "        acc_total.append(epoch_acc)\n",
    "        print(\"\\nEpoch [%d] Loss: %.3f\\tAcc:%.3f\"%(epoch+1, epoch_loss, epoch_acc))\n",
    "\n",
    "    torch.save(model, 'model.out')\n",
    "\n",
    "    return model, loss_total, acc_total\n",
    "\n",
    "def test(model, x, batch_size, devise):\n",
    "    model.to(device)\n",
    "    model.eval()\n",
    "    x = torch.from_numpy(x).long()\n",
    "    data_loader = torch.utils.data.DataLoader(x, batch_size, shuffle=False)\n",
    "\n",
    "    predict = []\n",
    "    for batch_data in data_loader:\n",
    "        batch_data = batch_data.to(device)\n",
    "        pred = model(batch_data)\n",
    "        for p in pred:\n",
    "            pv, pi = p.max(0)\n",
    "            predict.append(pi.item())\n",
    "\n",
    "    return predict\n",
    "\n",
    "def draw_graph(data):\n",
    "    plt.plot(data)\n",
    "    plt.show()\n",
    "\n",
    "def save_submission(pred):\n",
    "    data = {\n",
    "        \"PhraseId\" : np.arange(156061, len(pred)+ 156061),\n",
    "        \"Sentiment\" : pred\n",
    "        }\n",
    "    df = pd.DataFrame(data)\n",
    "    df.to_csv('/content/drive/My Drive/Colab Notebooks/my_submission.csv', mode='w', index=False)\n",
    "\n",
    "if __name__ == '__main__':\n",
    "    train_path = '/content/drive/My Drive/Colab Notebooks/train.tsv'\n",
    "    test_path = '/content/drive/My Drive/Colab Notebooks/test.tsv'\n",
    "    vocab_path = '/content/drive/My Drive/Colab Notebooks/vocab.txt'\n",
    "\n",
    "    train_data = pd.read_csv(train_path, sep='\\t')\n",
    "    test_data = pd.read_csv(test_path, sep='\\t')\n",
    "    vocab = make_vocab(vocab_path, train_data)\n",
    "    #model = torch.load('model.out')\n",
    "\n",
    "    device = torch.device('cuda:0') # 0 번 GPU 사용\n",
    "    max_len = 50\n",
    "    input_size = len(vocab)\n",
    "    embed_size = 50\n",
    "    hidden_size = 100 \n",
    "    output_size = 5\n",
    "    batch_size = 1024\n",
    "    epochs = 20\n",
    "    lr = 0.001\n",
    "\n",
    "    x_train, y_train, x_test = read_data(train_data, test_data, vocab, max_len)\n",
    "\n",
    "    model, loss_total, acc_total = train(x_train, y_train, input_size, embed_size, hidden_size, output_size, batch_size, epochs, lr, device)\n",
    "    draw_graph(loss_total)\n",
    "    draw_graph(acc_total)\n",
    "    predict = test(model, x_test, batch_size, device)\n",
    "    save_submission(predict)"
   ]
  }
 ],
 "metadata": {
  "accelerator": "GPU",
  "colab": {
   "authorship_tag": "ABX9TyOUSniZZ7Hbi4NO9dP9yihH",
   "collapsed_sections": [],
   "mount_file_id": "1DEESbx2RBEKlb2aBSd-wwaBelcW7Ob6y",
   "name": "Untitled0.ipynb",
   "provenance": [],
   "toc_visible": true
  },
  "kernelspec": {
   "display_name": "Python 3",
   "language": "python",
   "name": "python3"
  },
  "language_info": {
   "codemirror_mode": {
    "name": "ipython",
    "version": 3
   },
   "file_extension": ".py",
   "mimetype": "text/x-python",
   "name": "python",
   "nbconvert_exporter": "python",
   "pygments_lexer": "ipython3",
   "version": "3.7.7"
  }
 },
 "nbformat": 4,
 "nbformat_minor": 1
}
